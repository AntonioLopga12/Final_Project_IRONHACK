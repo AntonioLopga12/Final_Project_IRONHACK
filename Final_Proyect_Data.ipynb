{
 "cells": [
  {
   "cell_type": "code",
   "execution_count": 1,
   "id": "5f3454a5",
   "metadata": {},
   "outputs": [],
   "source": [
    "import pandas as pd\n",
    "import requests as req\n",
    "import json\n",
    "from selenium import webdriver\n",
    "from webdriver_manager.chrome import ChromeDriverManager\n",
    "import html5lib"
   ]
  },
  {
   "cell_type": "code",
   "execution_count": 2,
   "id": "a4f7f0dc",
   "metadata": {},
   "outputs": [],
   "source": [
    "import re\n",
    "import requests as req\n",
    "from bs4 import BeautifulSoup as bs"
   ]
  },
  {
   "cell_type": "code",
   "execution_count": 3,
   "id": "c9220f2c",
   "metadata": {},
   "outputs": [],
   "source": [
    "html = req.get(\"https://www.iea.org/data-and-statistics/charts/fuel-cell-ev-deployment-2017-2019-and-national-targets-for-selected-countries\").text\n",
    "soup = bs(html,'html.parser')\n",
    "\n",
    "vh_1 = soup.find_all('div', {'class':'m-chart-block'})\n",
    "\n"
   ]
  },
  {
   "cell_type": "code",
   "execution_count": 17,
   "id": "957b7e97",
   "metadata": {
    "scrolled": true
   },
   "outputs": [
    {
     "data": {
      "text/plain": [
       "<div class=\"m-chart-block\" data-behavior=\"chart\" data-chart-chartoptions='{\n",
       "\t\\\"series\\\": [\n",
       "\t\t{\\\"colorIndex\\\": 15},\n",
       "\t\t{\\\"colorIndex\\\": 0},\n",
       "\t\t{\\\"colorIndex\\\": 1},\n",
       "\t\t{\\\"colorIndex\\\": 5},\n",
       "\t\t{ \\\"colorIndex\\\": 4, \\\"className\\\": \\\"highcharts-dotted\\\", \\\"marker\\\": { \\\"enabled\\\": true}, \\\"showInLegend\\\": false},\n",
       "\t\t{\\\"colorIndex\\\": 7},\n",
       "\t\t{\\\"colorIndex\\\": 6, \\\"className\\\": \\\"highcharts-dotted\\\", \\\"marker\\\": { \\\"enabled\\\": true }, \\\"showInLegend\\\": false},\n",
       "\t\t{\\\"colorIndex\\\": 10},\n",
       "\t\t{\\\"colorIndex\\\": 9, \\\"className\\\": \\\"highcharts-dotted\\\", \\\"marker\\\": { \\\"enabled\\\": true }, \\\"showInLegend\\\": false},\n",
       "\t\t{\\\"colorIndex\\\": 13},\n",
       "\t\t{\\\"colorIndex\\\": 12, \\\"className\\\": \\\"highcharts-dotted\\\", \\\"marker\\\": { \\\"enabled\\\": true }, \\\"showInLegend\\\": false}\n",
       "\t]\n",
       "}' data-chart-charttype=\"line\" data-chart-colorpalette=\"tints\" data-chart-countries=\"\" data-chart-credit=\"IEA. All Rights Reserved\" data-chart-csv=\",Worldwide,United States,China,Japan,Japan target,Korea,Korea target,Netherlands,Netherlands target,France,France target\n",
       "2017,7186,3531,51,2300,,100,,34,,263,\n",
       "2018,12952,5899,1791,2926,,900,,48,,324,\n",
       "2019,23353.95,8039,6179.95,3633,3633,5083,5083,241,241,388,388\n",
       "2022,,,,,,,81000,,,,\n",
       "2023,,,,,,,,,,,5200\n",
       "2025,,,,,200000,,,,18000,,\n",
       "2028,,,,,,,,,,,52000\n",
       "2030,,,,,811200,,,,300000,,\" data-chart-csvfile=\"\" data-chart-datasource=\"0\" data-chart-decimals=\"0\" data-chart-download=\"0\" data-chart-endyear=\"\" data-chart-flows=\"\" data-chart-futurescenariolabel=\"\" data-chart-highlights=\"\" data-chart-identifier=\"fuel-cell-ev-deployment-2017-2019-and-national-targets-for-selected-countries\" data-chart-issingleyear=\"0\" data-chart-lasthistoricalyear=\"\" data-chart-legendtype=\"legend\" data-chart-listing=\"0\" data-chart-permalink=\"1\" data-chart-products=\"\" data-chart-queryparams=\"\" data-chart-series=\"\" data-chart-stacking=\"\" data-chart-startyear=\"\" data-chart-tooltip=\"1\" data-chart-units=\"Vehicles\" data-chart-xaxisdimension=\"\" data-chart-yaxisdimension=\"\" data-chart-year=\"\">\n",
       "<div class=\"m-chart-block__container\" data-chart-container=\"\">\n",
       "<div class=\"m-chart-block__placeholder\">\n",
       "<span class=\"a-loader\">\n",
       "</span>\n",
       "</div>\n",
       "</div>\n",
       "</div>"
      ]
     },
     "execution_count": 17,
     "metadata": {},
     "output_type": "execute_result"
    }
   ],
   "source": [
    "vh_1[0:1][0]"
   ]
  },
  {
   "cell_type": "code",
   "execution_count": 53,
   "id": "7a072dbf",
   "metadata": {},
   "outputs": [],
   "source": [
    "vh_2 = 'Worldwide,United_States,China,Japan,Japan target,Korea,Korea target,Netherlands,Netherlands target,France,France target,2017,7186,3531,51,2300,,100,,34,,263,2018,12952,5899,1791,2926,,900,,48,,324,2019,23353.95,8039,6179.95,3633,3633,5083,5083,241,241,388,3882022,,,,,,,81000,,,,2023,,,,,,,,,,,52002025,,,,,200000,,,,18000,,2028,,,,,,,,,,,520002030,,,,,811200,,,,300000,,'"
   ]
  },
  {
   "cell_type": "code",
   "execution_count": 57,
   "id": "08b7a797",
   "metadata": {},
   "outputs": [],
   "source": [
    "columns = re.findall('[A-Za-z_]+',vh_2) "
   ]
  },
  {
   "cell_type": "code",
   "execution_count": 89,
   "id": "5b973f9f",
   "metadata": {},
   "outputs": [],
   "source": [
    "f_cols = set()\n",
    "for i in columns:\n",
    "    if i in columns:\n",
    "        f_cols.add(i)\n",
    "        \n",
    "#Looooong code   "
   ]
  },
  {
   "cell_type": "code",
   "execution_count": 82,
   "id": "aa01c351",
   "metadata": {},
   "outputs": [],
   "source": [
    "filt_cols = set(filter( lambda x: x[0]!='target', columns))\n",
    "#short code!"
   ]
  },
  {
   "cell_type": "code",
   "execution_count": 84,
   "id": "b873d8e8",
   "metadata": {
    "scrolled": true
   },
   "outputs": [
    {
     "data": {
      "text/plain": [
       "['Worldwide',\n",
       " 'China',\n",
       " 'Netherlands',\n",
       " 'United_States',\n",
       " 'Japan',\n",
       " 'Korea',\n",
       " 'France']"
      ]
     },
     "execution_count": 84,
     "metadata": {},
     "output_type": "execute_result"
    }
   ],
   "source": [
    "final_cols = list(filt_cols)\n",
    "final_cols"
   ]
  },
  {
   "cell_type": "code",
   "execution_count": 181,
   "id": "d8cc0012",
   "metadata": {},
   "outputs": [
    {
     "data": {
      "text/plain": [
       "['2017',\n",
       " '7186',\n",
       " '3531',\n",
       " '51',\n",
       " '2300',\n",
       " '100',\n",
       " '34',\n",
       " '263',\n",
       " '2018',\n",
       " '12952',\n",
       " '5899',\n",
       " '1791',\n",
       " '2926',\n",
       " '900',\n",
       " '48',\n",
       " '324',\n",
       " '2019',\n",
       " '23353',\n",
       " '95',\n",
       " '8039',\n",
       " '6179',\n",
       " '95',\n",
       " '3633',\n",
       " '3633',\n",
       " '5083',\n",
       " '5083',\n",
       " '241',\n",
       " '241',\n",
       " '388',\n",
       " '3882022',\n",
       " '81000',\n",
       " '2023',\n",
       " '52002025',\n",
       " '200000',\n",
       " '18000',\n",
       " '2028',\n",
       " '520002030',\n",
       " '811200',\n",
       " '300000']"
      ]
     },
     "execution_count": 181,
     "metadata": {},
     "output_type": "execute_result"
    }
   ],
   "source": [
    "get_numeric = re.findall('\\d+',vh_2)\n",
    "get_numeric "
   ]
  },
  {
   "cell_type": "code",
   "execution_count": 159,
   "id": "0ba09957",
   "metadata": {},
   "outputs": [
    {
     "data": {
      "text/plain": [
       "['7186', '3531', '51', '2300', '100', '34', '263']"
      ]
     },
     "execution_count": 159,
     "metadata": {},
     "output_type": "execute_result"
    }
   ],
   "source": [
    "y_17 = get_numeric[1:8]\n",
    "y_17"
   ]
  },
  {
   "cell_type": "code",
   "execution_count": 183,
   "id": "1b8f85cf",
   "metadata": {
    "scrolled": true
   },
   "outputs": [],
   "source": [
    "y_18 = get_numeric[9:16]"
   ]
  },
  {
   "cell_type": "code",
   "execution_count": 182,
   "id": "5be57707",
   "metadata": {
    "scrolled": true
   },
   "outputs": [],
   "source": [
    "y_19 = get_numeric[17:29]"
   ]
  },
  {
   "cell_type": "code",
   "execution_count": 180,
   "id": "288f7f4d",
   "metadata": {},
   "outputs": [
    {
     "data": {
      "text/plain": [
       "'81000'"
      ]
     },
     "execution_count": 180,
     "metadata": {},
     "output_type": "execute_result"
    }
   ],
   "source": [
    "y_20_korea = get_numeric[30]\n",
    "y_20_korea"
   ]
  },
  {
   "cell_type": "code",
   "execution_count": 184,
   "id": "1428a97b",
   "metadata": {},
   "outputs": [],
   "source": [
    "y_23_france = get_numeric[31]\n",
    "y_25_ko_jap = get_numeric[32:34]\n",
    "y_28_ko = get_numeric[36:37]"
   ]
  },
  {
   "cell_type": "code",
   "execution_count": null,
   "id": "5ace347d",
   "metadata": {},
   "outputs": [],
   "source": [
    "dic = {'years':[2017,2018,2019,2022,2023,2025,2028,2030],\n",
    "      'Worldwide':[7186,12952,23353.95,0,0,0,0,0],\n",
    "      'United_States':[3531,5899,8039,0,0,0,0,0],\n",
    "      'China':[51,1791,6179.95,0,0,0,0,0],\n",
    "      'Japan':[2300,2926,3633,0,0,200000,0,811200],\n",
    "      'Korea':[100,900,5083,81000,0,0,0,0],\n",
    "      'Netherlands':[34,48,241,0,0,18000,0,300000],\n",
    "      'France':[263,324,388,0,5200,0,52000,0]}"
   ]
  },
  {
   "cell_type": "code",
   "execution_count": null,
   "id": "6055ada3",
   "metadata": {},
   "outputs": [],
   "source": [
    "fuel_cell_ev_deployment = pd.DataFrame(dic)"
   ]
  },
  {
   "cell_type": "code",
   "execution_count": null,
   "id": "19f8033a",
   "metadata": {},
   "outputs": [],
   "source": [
    "#fuel_cell_ev_deployment.to_csv('data/fuel_cell_ev_deployment.csv',index=False)\n",
    "\n",
    "#Source: https://www.iea.org/data-and-statistics/charts/fuel-cell-ev-deployment-2017-2019-and-national-targets-for-selected-countries"
   ]
  },
  {
   "cell_type": "markdown",
   "id": "cf251197",
   "metadata": {},
   "source": [
    "<div class=\"m-chart-block\" data-behavior=\"chart\" data-chart-identifier=\"low-carbon-hydrogen-production-2010-2030-historical-announced-and-in-the-sustainable-development-scenario-2030\" data-chart-download=\"0\" data-chart-listing=\"0\" data-chart-permalink=\"1\" data-chart-datasource=\"0\" data-chart-csv=\",Historical,Announced,SDS Target\n",
    "2010,0.04,,\n",
    "2011,0.04,,\n",
    "2012,0.05,,\n",
    "2013,0.23,,\n",
    "2014,0.23,,\n",
    "2015,0.36,,\n",
    "2016,0.37,,\n",
    "2017,0.37,,\n",
    "2018,0.37,,\n",
    "2019,0.36,,\n",
    "2020,,0.46,\n",
    "2021,,0.55,\n",
    "2022,,0.86,\n",
    "2023,,1.45,\n",
    "2030,,,7.92\" data-chart-csvfile data-chart-year data-chart-startyear data-chart-endyear data-chart-products data-chart-countries data-chart-flows data-chart-series data-chart-decimals=\"2\" data-chart-tooltip=\"1\" data-chart-queryparams data-chart-xaxisdimension data-chart-yaxisdimension data-chart-lasthistoricalyear=\"2019\" data-chart-futurescenariolabel=\"Announced\" data-chart-issingleyear=\"0\" data-chart-charttype=\"column\" data-chart-chartoptions=\"{\n",
    "\t\\\"xAxis\\\": {\n",
    "\t\t\\\"plotLines\\\": [\n",
    "\t\t\t{},\n",
    "\t\t\t{\n",
    "\t\t\t\\\"value\\\": 2025,\n",
    "\t\t\t\\\"label\\\": {\n",
    "\t\t\t\t\\\"text\\\": \\\"SDS\\\"\n",
    "\t\t\t},\n",
    "\t\t\t\\\"className\\\": \\\"highcharts-dotted\\\"\n",
    "\t\t\t}\n",
    "\t\t]\n",
    "\t}\n",
    "}\" data-chart-colorpalette=\"default\" data-chart-credit=\"IEA. All Rights Reserved\" data-chart-units=\"Mt/y\" data-chart-highlights data-chart-stacking=\"normal\" data-chart-legendtype=\"legend\">…</div>"
   ]
  },
  {
   "cell_type": "code",
   "execution_count": 2,
   "id": "d8cc9c21",
   "metadata": {
    "scrolled": true
   },
   "outputs": [
    {
     "name": "stderr",
     "output_type": "stream",
     "text": [
      "\n",
      "\n",
      "====== WebDriver manager ======\n",
      "Current google-chrome version is 99.0.4844\n",
      "Get LATEST chromedriver version for 99.0.4844 google-chrome\n",
      "Driver [/Users/antoniolopez/.wdm/drivers/chromedriver/mac64/99.0.4844.51/chromedriver] found in cache\n"
     ]
    }
   ],
   "source": [
    "PATH=ChromeDriverManager().install()\n",
    "url = 'https://www.iea.org/data-and-statistics/charts/low-carbon-hydrogen-production-2010-2030-historical-announced-and-in-the-sustainable-development-scenario-2030'\n"
   ]
  },
  {
   "cell_type": "code",
   "execution_count": 3,
   "id": "7bc20302",
   "metadata": {},
   "outputs": [
    {
     "name": "stderr",
     "output_type": "stream",
     "text": [
      "/var/folders/xt/vx2zkv116hb1jvz92s1nlr2r0000gn/T/ipykernel_6241/1135884956.py:1: DeprecationWarning: executable_path has been deprecated, please pass in a Service object\n",
      "  driver = webdriver.Chrome(PATH) #Driver\n"
     ]
    }
   ],
   "source": [
    "driver = webdriver.Chrome(PATH) #Driver\n",
    "driver.get(url)"
   ]
  },
  {
   "cell_type": "code",
   "execution_count": 4,
   "id": "c7539864",
   "metadata": {},
   "outputs": [
    {
     "name": "stderr",
     "output_type": "stream",
     "text": [
      "/var/folders/xt/vx2zkv116hb1jvz92s1nlr2r0000gn/T/ipykernel_6241/3825045409.py:1: DeprecationWarning: find_element_by_* commands are deprecated. Please use find_element() instead\n",
      "  Table = driver.find_element_by_xpath('//*[@id=\"content\"]/div[3]').text\n"
     ]
    }
   ],
   "source": [
    "Table = driver.find_element_by_xpath('//*[@id=\"content\"]/div[3]').text"
   ]
  },
  {
   "cell_type": "code",
   "execution_count": 5,
   "id": "6ee96d44",
   "metadata": {},
   "outputs": [],
   "source": [
    "driver.quit()"
   ]
  },
  {
   "cell_type": "code",
   "execution_count": 6,
   "id": "fca0e6b6",
   "metadata": {
    "scrolled": true
   },
   "outputs": [
    {
     "data": {
      "text/plain": [
       "'Mt/y\\nSDS\\n2010\\n2011\\n2012\\n2013\\n2014\\n2015\\n2016\\n2017\\n2018\\n2019\\n2020\\n2021\\n2022\\n2023\\n2024\\n2025\\n2026\\n2027\\n2028\\n2029\\n2030\\n0\\n1\\n2\\n3\\n4\\n5\\n6\\n7\\n8\\n9\\nAnnounced\\nIEA. All Rights Reserved\\nHistorical\\nAnnounced\\nAppears in\\nTracking Energy Integration 2020\\nTracking Hydrogen 2020'"
      ]
     },
     "execution_count": 6,
     "metadata": {},
     "output_type": "execute_result"
    }
   ],
   "source": [
    "Table"
   ]
  },
  {
   "cell_type": "code",
   "execution_count": 24,
   "id": "f97e9c70",
   "metadata": {},
   "outputs": [],
   "source": [
    "Hydro_poduct='Historical,Announced,SDS Target 2010,0.04,, 2011,0.04,, 2012,0.05,, 2013,0.23,, 2014,0.23,, 2015,0.36,, 2016,0.37,, 2017,0.37,, 2018,0.37,, 2019,0.36,, 2020,,0.46, 2021,,0.55, 2022,,0.86, 2023,,1.45, 2030,,,7.92'"
   ]
  },
  {
   "cell_type": "code",
   "execution_count": 25,
   "id": "31e09560",
   "metadata": {},
   "outputs": [],
   "source": [
    "num_data=Hydro_poduct[32:]"
   ]
  },
  {
   "cell_type": "code",
   "execution_count": 26,
   "id": "ca542bc7",
   "metadata": {},
   "outputs": [],
   "source": [
    "years = re.findall('\\d{4}', num_data)"
   ]
  },
  {
   "cell_type": "code",
   "execution_count": 27,
   "id": "187d6ac7",
   "metadata": {},
   "outputs": [],
   "source": [
    "data_val = re.findall('\\d\\.\\d{2}', num_data)"
   ]
  },
  {
   "cell_type": "code",
   "execution_count": 28,
   "id": "1353d03b",
   "metadata": {},
   "outputs": [],
   "source": [
    "hydro_prod_10_30 = pd.DataFrame({'years':years,'Mt/y':data_val})"
   ]
  },
  {
   "cell_type": "code",
   "execution_count": 30,
   "id": "d1324f1a",
   "metadata": {},
   "outputs": [
    {
     "data": {
      "text/html": [
       "<div>\n",
       "<style scoped>\n",
       "    .dataframe tbody tr th:only-of-type {\n",
       "        vertical-align: middle;\n",
       "    }\n",
       "\n",
       "    .dataframe tbody tr th {\n",
       "        vertical-align: top;\n",
       "    }\n",
       "\n",
       "    .dataframe thead th {\n",
       "        text-align: right;\n",
       "    }\n",
       "</style>\n",
       "<table border=\"1\" class=\"dataframe\">\n",
       "  <thead>\n",
       "    <tr style=\"text-align: right;\">\n",
       "      <th></th>\n",
       "      <th>years</th>\n",
       "      <th>Mt/y</th>\n",
       "    </tr>\n",
       "  </thead>\n",
       "  <tbody>\n",
       "    <tr>\n",
       "      <th>0</th>\n",
       "      <td>2010</td>\n",
       "      <td>0.04</td>\n",
       "    </tr>\n",
       "    <tr>\n",
       "      <th>1</th>\n",
       "      <td>2011</td>\n",
       "      <td>0.04</td>\n",
       "    </tr>\n",
       "    <tr>\n",
       "      <th>2</th>\n",
       "      <td>2012</td>\n",
       "      <td>0.05</td>\n",
       "    </tr>\n",
       "    <tr>\n",
       "      <th>3</th>\n",
       "      <td>2013</td>\n",
       "      <td>0.23</td>\n",
       "    </tr>\n",
       "    <tr>\n",
       "      <th>4</th>\n",
       "      <td>2014</td>\n",
       "      <td>0.23</td>\n",
       "    </tr>\n",
       "  </tbody>\n",
       "</table>\n",
       "</div>"
      ],
      "text/plain": [
       "  years  Mt/y\n",
       "0  2010  0.04\n",
       "1  2011  0.04\n",
       "2  2012  0.05\n",
       "3  2013  0.23\n",
       "4  2014  0.23"
      ]
     },
     "execution_count": 30,
     "metadata": {},
     "output_type": "execute_result"
    }
   ],
   "source": [
    "hydro_prod_10_30.head()"
   ]
  },
  {
   "cell_type": "code",
   "execution_count": 72,
   "id": "84caabd1",
   "metadata": {},
   "outputs": [],
   "source": [
    "#hydro_prod_10_30.to_csv('data/Hydro_product_million_tones.csv',index=False)"
   ]
  },
  {
   "cell_type": "markdown",
   "id": "985b2e31",
   "metadata": {},
   "source": [
    "Hydrogen Demand:"
   ]
  },
  {
   "cell_type": "code",
   "execution_count": 3,
   "id": "de694c05",
   "metadata": {},
   "outputs": [],
   "source": [
    "html = req.get(\"https://www.iea.org/data-and-statistics/charts/global-demand-for-pure-hydrogen-1975-2018\").text\n",
    "soup = bs(html,'html.parser')\n",
    "\n",
    "hd_1 = soup.find_all('div', {'class':'m-chart-block'})\n",
    "\n"
   ]
  },
  {
   "cell_type": "code",
   "execution_count": 32,
   "id": "1cb39f24",
   "metadata": {},
   "outputs": [
    {
     "data": {
      "text/plain": [
       "1334"
      ]
     },
     "execution_count": 32,
     "metadata": {},
     "output_type": "execute_result"
    }
   ],
   "source": [
    "hd_2 = str(hd_1[0:1])\n"
   ]
  },
  {
   "cell_type": "code",
   "execution_count": 35,
   "id": "d84ca541",
   "metadata": {},
   "outputs": [],
   "source": [
    "columns_hd = re.findall('\\d{4}',hd_2) "
   ]
  },
  {
   "cell_type": "code",
   "execution_count": 55,
   "id": "02a2d409",
   "metadata": {
    "scrolled": true
   },
   "outputs": [
    {
     "data": {
      "text/plain": [
       "10"
      ]
     },
     "execution_count": 55,
     "metadata": {},
     "output_type": "execute_result"
    }
   ],
   "source": [
    "len(columns_hd[:10])"
   ]
  },
  {
   "cell_type": "code",
   "execution_count": 57,
   "id": "6766fb28",
   "metadata": {},
   "outputs": [
    {
     "data": {
      "text/plain": [
       "'[<div class=\"m-chart-block\" data-behavior=\"chart\" data-chart-chartoptions=\\'{\\n\\t\\\\\"xAxis\\\\\":{\\\\\"type\\\\\":\\\\\"category\\\\\"}\\n}\\' data-chart-charttype=\"column\" data-chart-colorpalette=\"default\" data-chart-countries=\"\" data-chart-credit=\"IEA. All Rights Reserved\" data-chart-csv=\";Refining;Ammonia;Other\\n1975;6.2;10.877;1.077\\n1980;6.831;16.171;1.456\\n1985;8.563;20;1.847\\n1990;12.033;21.411;1.9\\n1995;15.829;21.96;2.042\\n2000;21.449;28.565;2.484\\n2005;25.257;26.141;2.691\\n2010;30.974;28.345;3.105\\n2015;35.965;31.921;3.813\\n2018e;38.243;31.458;4.188\" data-chart-csvfile=\"\" data-chart-datasource=\"0\" data-chart-decimals=\"1\" data-chart-download=\"1\" data-chart-endyear=\"\" data-chart-flows=\"\" data-chart-futurescenariolabel=\"\" data-chart-highlights=\"\" data-chart-identifier=\"global-demand-for-pure-hydrogen-1975-2018\" data-chart-issingleyear=\"0\" data-chart-lasthistoricalyear=\"\" data-chart-legendtype=\"legend\" data-chart-listing=\"0\" data-chart-permalink=\"1\" data-chart-products=\"\" data-chart-queryparams=\"\" data-chart-series=\"\" data-chart-stacking=\"normal\" data-chart-startyear=\"\" data-chart-tooltip=\"1\" data-chart-units=\"Mt\" data-chart-xaxisdimension=\"\" data-chart-yaxisdimension=\"\" data-chart-year=\"\">\\n<div class=\"m-chart-block__container\" data-chart-container=\"\">\\n<div class=\"m-chart-block__placeholder\">\\n<span class=\"a-loader\">\\n</span>\\n</div>\\n</div>\\n</div>]'"
      ]
     },
     "execution_count": 57,
     "metadata": {},
     "output_type": "execute_result"
    }
   ],
   "source": [
    "hd_2 "
   ]
  },
  {
   "cell_type": "code",
   "execution_count": 59,
   "id": "f7d25abc",
   "metadata": {},
   "outputs": [],
   "source": [
    "data_hd = re.findall(';\\d+.\\d+\\;\\d+.\\d+\\;\\d+.\\d+|;\\d+.\\d+\\;\\d+;\\d+.\\d+',hd_2) \n"
   ]
  },
  {
   "cell_type": "code",
   "execution_count": 60,
   "id": "49f2e07f",
   "metadata": {
    "scrolled": true
   },
   "outputs": [
    {
     "data": {
      "text/plain": [
       "[',6.2,10.877,1.077',\n",
       " ',6.831,16.171,1.456',\n",
       " ',8.563,20,1.847',\n",
       " ',12.033,21.411,1.9',\n",
       " ',15.829,21.96,2.042',\n",
       " ',21.449,28.565,2.484',\n",
       " ',25.257,26.141,2.691',\n",
       " ',30.974,28.345,3.105',\n",
       " ',35.965,31.921,3.813',\n",
       " ',38.243,31.458,4.188']"
      ]
     },
     "execution_count": 60,
     "metadata": {},
     "output_type": "execute_result"
    }
   ],
   "source": [
    "data_cl = [i.replace(';', ',') for i in data_hd]\n",
    "len(data_cl)\n",
    "data_cl"
   ]
  },
  {
   "cell_type": "code",
   "execution_count": 71,
   "id": "ca243684",
   "metadata": {},
   "outputs": [
    {
     "data": {
      "text/plain": [
       "'6.83'"
      ]
     },
     "execution_count": 71,
     "metadata": {},
     "output_type": "execute_result"
    }
   ],
   "source": [
    "data_cl[1][1:5]"
   ]
  },
  {
   "cell_type": "code",
   "execution_count": 74,
   "id": "184cc9af",
   "metadata": {},
   "outputs": [],
   "source": [
    "Refining = [6.2,6.831,8.563,12.033,15.829,21.449,25.257,30.974,35.965,38.243]\n",
    "Amonia = [10.877,16.171,20,21.411,21.96,28.565,26.141,28.345,31.921,31.458]\n",
    "Other = [1.077,1.456,1.847,1.9,2.042,2.484,2.691,3.105,3.813,4.188]\n"
   ]
  },
  {
   "cell_type": "code",
   "execution_count": 75,
   "id": "b412dd68",
   "metadata": {},
   "outputs": [],
   "source": [
    "hydro_demand = pd.DataFrame({'years':columns_hd[:10],'refining':Refining,'Amonia':amonia,'Other':other})"
   ]
  },
  {
   "cell_type": "code",
   "execution_count": 77,
   "id": "aa2ce6f5",
   "metadata": {},
   "outputs": [],
   "source": [
    "#hydro_demand.to_csv('data/hydro_demand.csv',index=False)"
   ]
  },
  {
   "cell_type": "code",
   "execution_count": 5,
   "id": "b9e0bcf4",
   "metadata": {
    "scrolled": true
   },
   "outputs": [],
   "source": [
    "#main_h2 = pd.read_html('https://citywire.com/funds-insider/news/david-stevenson-clean-energy-attractive-but-valuations-scary/a1466489')"
   ]
  },
  {
   "cell_type": "code",
   "execution_count": null,
   "id": "57f06c01",
   "metadata": {},
   "outputs": [],
   "source": []
  }
 ],
 "metadata": {
  "kernelspec": {
   "display_name": "Python3 (Ironhack_FP)",
   "language": "python",
   "name": "condaenv"
  },
  "language_info": {
   "codemirror_mode": {
    "name": "ipython",
    "version": 3
   },
   "file_extension": ".py",
   "mimetype": "text/x-python",
   "name": "python",
   "nbconvert_exporter": "python",
   "pygments_lexer": "ipython3",
   "version": "3.9.7"
  }
 },
 "nbformat": 4,
 "nbformat_minor": 5
}
