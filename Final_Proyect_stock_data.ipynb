{
 "cells": [
  {
   "cell_type": "code",
   "execution_count": 1,
   "id": "5f3454a5",
   "metadata": {},
   "outputs": [],
   "source": [
    "import pandas as pd\n",
    "\n",
    "import datetime\n",
    "\n",
    "import numpy as np\n",
    "\n",
    "import matplotlib.pyplot as plt\n",
    "\n",
    "from pandas.plotting import scatter_matrix\n",
    "\n",
    "import yfinance as yf\n",
    "\n",
    "%matplotlib inline"
   ]
  },
  {
   "cell_type": "markdown",
   "id": "e8340aa3",
   "metadata": {},
   "source": [
    "- Mcphy energy [MCPHY.PA] -Frnacia - €\n",
    "    \n",
    "    Funded: 2008\n",
    "    A pioneer of hydrogen technologies at the service of the energy transition, since it was founded in 2008, McPhy     has established itself among the world leaders in the production and distribution of zero-carbon hydrogen           equipment.\n",
    "\n",
    "\n",
    "- Nel asa - [NEL] - Norway - € \n",
    "    \n",
    "    Funded: 1998\n",
    "    Traducción del inglés-Nel ASA es una empresa noruega fundada en 1998 y con sede en Oslo. Nel es una empresa         global que ofrece soluciones para la producción, almacenamiento y distribución de hidrógeno a partir de fuentes     de energía renovables. \n",
    "    \n",
    "- ITM power - [ITM] - England - libra\n",
    "\n",
    "    Funded: 2001\n",
    "    ITM Power plc es una empresa de combustible limpio y almacenamiento de energía fundada en el Reino Unido en         2001. Diseña, fabrica e integra electrolizadores basados ​​en tecnología de membrana de intercambio de protones     para producir hidrógeno verde utilizando electricidad renovable y agua del grifo.\n",
    "    \n",
    "- Plug Power -  [PLUG] - USA - $\n",
    "\n",
    "    Funded: 1997\n",
    "    Plug Power Inc. es una empresa estadounidense dedicada al desarrollo de sistemas de pilas de combustible de         hidrógeno que sustituyen a las baterías convencionales en equipos y vehículos alimentados por electricidad."
   ]
  },
  {
   "cell_type": "code",
   "execution_count": 2,
   "id": "c3b4cdc2",
   "metadata": {
    "scrolled": true
   },
   "outputs": [],
   "source": [
    "import yfinance as yf"
   ]
  },
  {
   "cell_type": "markdown",
   "id": "3f4ba282",
   "metadata": {},
   "source": [
    "#### 1. Descargar datos de empresas objetivo"
   ]
  },
  {
   "cell_type": "markdown",
   "id": "b832b390",
   "metadata": {},
   "source": [
    "**Habria que hacer una conversion de moneda y que fuesesn todas Euro??**\n"
   ]
  },
  {
   "cell_type": "code",
   "execution_count": 3,
   "id": "fc6f8fdb",
   "metadata": {
    "scrolled": true
   },
   "outputs": [
    {
     "name": "stdout",
     "output_type": "stream",
     "text": [
      "[*********************100%***********************]  1 of 1 completed\n",
      "[*********************100%***********************]  1 of 1 completed\n",
      "[*********************100%***********************]  1 of 1 completed\n",
      "[*********************100%***********************]  1 of 1 completed\n"
     ]
    }
   ],
   "source": [
    "start = \"2019-01-01\"\n",
    "end = '2022-03-06'\n",
    "\n",
    "MCPHY = yf.download('MCPHY.PA',start,end)\n",
    "NEL = yf.download('NEL',start,end)\n",
    "ITM = yf.download('ITM',start,end)\n",
    "PLUG = yf.download('PLUG',start,end)\n"
   ]
  },
  {
   "cell_type": "code",
   "execution_count": 14,
   "id": "307943e3",
   "metadata": {
    "scrolled": true
   },
   "outputs": [
    {
     "data": {
      "text/html": [
       "<div>\n",
       "<style scoped>\n",
       "    .dataframe tbody tr th:only-of-type {\n",
       "        vertical-align: middle;\n",
       "    }\n",
       "\n",
       "    .dataframe tbody tr th {\n",
       "        vertical-align: top;\n",
       "    }\n",
       "\n",
       "    .dataframe thead th {\n",
       "        text-align: right;\n",
       "    }\n",
       "</style>\n",
       "<table border=\"1\" class=\"dataframe\">\n",
       "  <thead>\n",
       "    <tr style=\"text-align: right;\">\n",
       "      <th></th>\n",
       "      <th>Open</th>\n",
       "      <th>High</th>\n",
       "      <th>Low</th>\n",
       "      <th>Close</th>\n",
       "      <th>Adj Close</th>\n",
       "      <th>Volume</th>\n",
       "    </tr>\n",
       "  </thead>\n",
       "  <tbody>\n",
       "    <tr>\n",
       "      <th>count</th>\n",
       "      <td>816.000000</td>\n",
       "      <td>816.000000</td>\n",
       "      <td>816.000000</td>\n",
       "      <td>816.000000</td>\n",
       "      <td>816.000000</td>\n",
       "      <td>8.160000e+02</td>\n",
       "    </tr>\n",
       "    <tr>\n",
       "      <th>mean</th>\n",
       "      <td>14.941054</td>\n",
       "      <td>15.351532</td>\n",
       "      <td>14.454424</td>\n",
       "      <td>14.907384</td>\n",
       "      <td>14.907384</td>\n",
       "      <td>1.659820e+05</td>\n",
       "    </tr>\n",
       "    <tr>\n",
       "      <th>std</th>\n",
       "      <td>10.640539</td>\n",
       "      <td>10.939451</td>\n",
       "      <td>10.251836</td>\n",
       "      <td>10.596417</td>\n",
       "      <td>10.596417</td>\n",
       "      <td>2.167609e+05</td>\n",
       "    </tr>\n",
       "    <tr>\n",
       "      <th>min</th>\n",
       "      <td>2.800000</td>\n",
       "      <td>2.990000</td>\n",
       "      <td>2.760000</td>\n",
       "      <td>2.920000</td>\n",
       "      <td>2.920000</td>\n",
       "      <td>0.000000e+00</td>\n",
       "    </tr>\n",
       "    <tr>\n",
       "      <th>25%</th>\n",
       "      <td>4.677500</td>\n",
       "      <td>4.763750</td>\n",
       "      <td>4.560000</td>\n",
       "      <td>4.658750</td>\n",
       "      <td>4.658750</td>\n",
       "      <td>2.516225e+04</td>\n",
       "    </tr>\n",
       "    <tr>\n",
       "      <th>50%</th>\n",
       "      <td>15.800000</td>\n",
       "      <td>16.405001</td>\n",
       "      <td>15.340000</td>\n",
       "      <td>15.805000</td>\n",
       "      <td>15.805000</td>\n",
       "      <td>1.167635e+05</td>\n",
       "    </tr>\n",
       "    <tr>\n",
       "      <th>75%</th>\n",
       "      <td>23.105000</td>\n",
       "      <td>23.750000</td>\n",
       "      <td>22.309999</td>\n",
       "      <td>23.127501</td>\n",
       "      <td>23.127501</td>\n",
       "      <td>2.122445e+05</td>\n",
       "    </tr>\n",
       "    <tr>\n",
       "      <th>max</th>\n",
       "      <td>40.000000</td>\n",
       "      <td>41.700001</td>\n",
       "      <td>38.099998</td>\n",
       "      <td>40.250000</td>\n",
       "      <td>40.250000</td>\n",
       "      <td>2.215293e+06</td>\n",
       "    </tr>\n",
       "  </tbody>\n",
       "</table>\n",
       "</div>"
      ],
      "text/plain": [
       "             Open        High         Low       Close   Adj Close  \\\n",
       "count  816.000000  816.000000  816.000000  816.000000  816.000000   \n",
       "mean    14.941054   15.351532   14.454424   14.907384   14.907384   \n",
       "std     10.640539   10.939451   10.251836   10.596417   10.596417   \n",
       "min      2.800000    2.990000    2.760000    2.920000    2.920000   \n",
       "25%      4.677500    4.763750    4.560000    4.658750    4.658750   \n",
       "50%     15.800000   16.405001   15.340000   15.805000   15.805000   \n",
       "75%     23.105000   23.750000   22.309999   23.127501   23.127501   \n",
       "max     40.000000   41.700001   38.099998   40.250000   40.250000   \n",
       "\n",
       "             Volume  \n",
       "count  8.160000e+02  \n",
       "mean   1.659820e+05  \n",
       "std    2.167609e+05  \n",
       "min    0.000000e+00  \n",
       "25%    2.516225e+04  \n",
       "50%    1.167635e+05  \n",
       "75%    2.122445e+05  \n",
       "max    2.215293e+06  "
      ]
     },
     "execution_count": 14,
     "metadata": {},
     "output_type": "execute_result"
    }
   ],
   "source": [
    "MCPHY.describe()"
   ]
  },
  {
   "cell_type": "code",
   "execution_count": 15,
   "id": "c6972275",
   "metadata": {
    "scrolled": true
   },
   "outputs": [
    {
     "data": {
      "text/html": [
       "<div>\n",
       "<style scoped>\n",
       "    .dataframe tbody tr th:only-of-type {\n",
       "        vertical-align: middle;\n",
       "    }\n",
       "\n",
       "    .dataframe tbody tr th {\n",
       "        vertical-align: top;\n",
       "    }\n",
       "\n",
       "    .dataframe thead th {\n",
       "        text-align: right;\n",
       "    }\n",
       "</style>\n",
       "<table border=\"1\" class=\"dataframe\">\n",
       "  <thead>\n",
       "    <tr style=\"text-align: right;\">\n",
       "      <th></th>\n",
       "      <th>Open</th>\n",
       "      <th>High</th>\n",
       "      <th>Low</th>\n",
       "      <th>Close</th>\n",
       "      <th>Adj Close</th>\n",
       "      <th>Volume</th>\n",
       "    </tr>\n",
       "  </thead>\n",
       "  <tbody>\n",
       "    <tr>\n",
       "      <th>count</th>\n",
       "      <td>788.000000</td>\n",
       "      <td>788.000000</td>\n",
       "      <td>788.000000</td>\n",
       "      <td>788.000000</td>\n",
       "      <td>788.000000</td>\n",
       "      <td>788.000000</td>\n",
       "    </tr>\n",
       "    <tr>\n",
       "      <th>mean</th>\n",
       "      <td>4.732817</td>\n",
       "      <td>4.733020</td>\n",
       "      <td>4.721053</td>\n",
       "      <td>4.726091</td>\n",
       "      <td>4.726091</td>\n",
       "      <td>9029.865482</td>\n",
       "    </tr>\n",
       "    <tr>\n",
       "      <th>std</th>\n",
       "      <td>1.582848</td>\n",
       "      <td>1.577918</td>\n",
       "      <td>1.579279</td>\n",
       "      <td>1.579569</td>\n",
       "      <td>1.579569</td>\n",
       "      <td>43253.293562</td>\n",
       "    </tr>\n",
       "    <tr>\n",
       "      <th>min</th>\n",
       "      <td>2.810000</td>\n",
       "      <td>2.810000</td>\n",
       "      <td>2.800000</td>\n",
       "      <td>2.810000</td>\n",
       "      <td>2.810000</td>\n",
       "      <td>0.000000</td>\n",
       "    </tr>\n",
       "    <tr>\n",
       "      <th>25%</th>\n",
       "      <td>3.250000</td>\n",
       "      <td>3.250000</td>\n",
       "      <td>3.250000</td>\n",
       "      <td>3.250000</td>\n",
       "      <td>3.250000</td>\n",
       "      <td>0.000000</td>\n",
       "    </tr>\n",
       "    <tr>\n",
       "      <th>50%</th>\n",
       "      <td>4.200000</td>\n",
       "      <td>4.200000</td>\n",
       "      <td>4.200000</td>\n",
       "      <td>4.200000</td>\n",
       "      <td>4.200000</td>\n",
       "      <td>0.000000</td>\n",
       "    </tr>\n",
       "    <tr>\n",
       "      <th>75%</th>\n",
       "      <td>5.760000</td>\n",
       "      <td>5.760000</td>\n",
       "      <td>5.760000</td>\n",
       "      <td>5.760000</td>\n",
       "      <td>5.760000</td>\n",
       "      <td>2043.750000</td>\n",
       "    </tr>\n",
       "    <tr>\n",
       "      <th>max</th>\n",
       "      <td>8.020000</td>\n",
       "      <td>8.200000</td>\n",
       "      <td>8.020000</td>\n",
       "      <td>8.020000</td>\n",
       "      <td>8.020000</td>\n",
       "      <td>703943.000000</td>\n",
       "    </tr>\n",
       "  </tbody>\n",
       "</table>\n",
       "</div>"
      ],
      "text/plain": [
       "             Open        High         Low       Close   Adj Close  \\\n",
       "count  788.000000  788.000000  788.000000  788.000000  788.000000   \n",
       "mean     4.732817    4.733020    4.721053    4.726091    4.726091   \n",
       "std      1.582848    1.577918    1.579279    1.579569    1.579569   \n",
       "min      2.810000    2.810000    2.800000    2.810000    2.810000   \n",
       "25%      3.250000    3.250000    3.250000    3.250000    3.250000   \n",
       "50%      4.200000    4.200000    4.200000    4.200000    4.200000   \n",
       "75%      5.760000    5.760000    5.760000    5.760000    5.760000   \n",
       "max      8.020000    8.200000    8.020000    8.020000    8.020000   \n",
       "\n",
       "              Volume  \n",
       "count     788.000000  \n",
       "mean     9029.865482  \n",
       "std     43253.293562  \n",
       "min         0.000000  \n",
       "25%         0.000000  \n",
       "50%         0.000000  \n",
       "75%      2043.750000  \n",
       "max    703943.000000  "
      ]
     },
     "execution_count": 15,
     "metadata": {},
     "output_type": "execute_result"
    }
   ],
   "source": [
    "NEL.describe()"
   ]
  },
  {
   "cell_type": "code",
   "execution_count": 16,
   "id": "6dadc2ec",
   "metadata": {
    "scrolled": true
   },
   "outputs": [
    {
     "data": {
      "text/html": [
       "<div>\n",
       "<style scoped>\n",
       "    .dataframe tbody tr th:only-of-type {\n",
       "        vertical-align: middle;\n",
       "    }\n",
       "\n",
       "    .dataframe tbody tr th {\n",
       "        vertical-align: top;\n",
       "    }\n",
       "\n",
       "    .dataframe thead th {\n",
       "        text-align: right;\n",
       "    }\n",
       "</style>\n",
       "<table border=\"1\" class=\"dataframe\">\n",
       "  <thead>\n",
       "    <tr style=\"text-align: right;\">\n",
       "      <th></th>\n",
       "      <th>Open</th>\n",
       "      <th>High</th>\n",
       "      <th>Low</th>\n",
       "      <th>Close</th>\n",
       "      <th>Adj Close</th>\n",
       "      <th>Volume</th>\n",
       "    </tr>\n",
       "  </thead>\n",
       "  <tbody>\n",
       "    <tr>\n",
       "      <th>count</th>\n",
       "      <td>801.000000</td>\n",
       "      <td>801.000000</td>\n",
       "      <td>801.000000</td>\n",
       "      <td>801.000000</td>\n",
       "      <td>801.000000</td>\n",
       "      <td>8.010000e+02</td>\n",
       "    </tr>\n",
       "    <tr>\n",
       "      <th>mean</th>\n",
       "      <td>50.560824</td>\n",
       "      <td>50.631910</td>\n",
       "      <td>50.472447</td>\n",
       "      <td>50.551024</td>\n",
       "      <td>49.040318</td>\n",
       "      <td>1.655370e+05</td>\n",
       "    </tr>\n",
       "    <tr>\n",
       "      <th>std</th>\n",
       "      <td>1.431608</td>\n",
       "      <td>1.315370</td>\n",
       "      <td>1.543227</td>\n",
       "      <td>1.408674</td>\n",
       "      <td>2.060393</td>\n",
       "      <td>1.796631e+05</td>\n",
       "    </tr>\n",
       "    <tr>\n",
       "      <th>min</th>\n",
       "      <td>38.060001</td>\n",
       "      <td>41.240002</td>\n",
       "      <td>35.770000</td>\n",
       "      <td>39.200001</td>\n",
       "      <td>37.744747</td>\n",
       "      <td>2.250000e+04</td>\n",
       "    </tr>\n",
       "    <tr>\n",
       "      <th>25%</th>\n",
       "      <td>49.849998</td>\n",
       "      <td>49.889999</td>\n",
       "      <td>49.750000</td>\n",
       "      <td>49.799999</td>\n",
       "      <td>47.763248</td>\n",
       "      <td>8.270000e+04</td>\n",
       "    </tr>\n",
       "    <tr>\n",
       "      <th>50%</th>\n",
       "      <td>51.000000</td>\n",
       "      <td>51.049999</td>\n",
       "      <td>50.939999</td>\n",
       "      <td>51.000000</td>\n",
       "      <td>49.697330</td>\n",
       "      <td>1.145000e+05</td>\n",
       "    </tr>\n",
       "    <tr>\n",
       "      <th>75%</th>\n",
       "      <td>51.619999</td>\n",
       "      <td>51.660000</td>\n",
       "      <td>51.560001</td>\n",
       "      <td>51.599998</td>\n",
       "      <td>50.848461</td>\n",
       "      <td>1.794000e+05</td>\n",
       "    </tr>\n",
       "    <tr>\n",
       "      <th>max</th>\n",
       "      <td>52.380001</td>\n",
       "      <td>52.380001</td>\n",
       "      <td>52.250000</td>\n",
       "      <td>52.340000</td>\n",
       "      <td>51.674206</td>\n",
       "      <td>1.941100e+06</td>\n",
       "    </tr>\n",
       "  </tbody>\n",
       "</table>\n",
       "</div>"
      ],
      "text/plain": [
       "             Open        High         Low       Close   Adj Close  \\\n",
       "count  801.000000  801.000000  801.000000  801.000000  801.000000   \n",
       "mean    50.560824   50.631910   50.472447   50.551024   49.040318   \n",
       "std      1.431608    1.315370    1.543227    1.408674    2.060393   \n",
       "min     38.060001   41.240002   35.770000   39.200001   37.744747   \n",
       "25%     49.849998   49.889999   49.750000   49.799999   47.763248   \n",
       "50%     51.000000   51.049999   50.939999   51.000000   49.697330   \n",
       "75%     51.619999   51.660000   51.560001   51.599998   50.848461   \n",
       "max     52.380001   52.380001   52.250000   52.340000   51.674206   \n",
       "\n",
       "             Volume  \n",
       "count  8.010000e+02  \n",
       "mean   1.655370e+05  \n",
       "std    1.796631e+05  \n",
       "min    2.250000e+04  \n",
       "25%    8.270000e+04  \n",
       "50%    1.145000e+05  \n",
       "75%    1.794000e+05  \n",
       "max    1.941100e+06  "
      ]
     },
     "execution_count": 16,
     "metadata": {},
     "output_type": "execute_result"
    }
   ],
   "source": [
    "ITM.describe()"
   ]
  },
  {
   "cell_type": "code",
   "execution_count": 17,
   "id": "ade7186a",
   "metadata": {},
   "outputs": [
    {
     "data": {
      "text/html": [
       "<div>\n",
       "<style scoped>\n",
       "    .dataframe tbody tr th:only-of-type {\n",
       "        vertical-align: middle;\n",
       "    }\n",
       "\n",
       "    .dataframe tbody tr th {\n",
       "        vertical-align: top;\n",
       "    }\n",
       "\n",
       "    .dataframe thead th {\n",
       "        text-align: right;\n",
       "    }\n",
       "</style>\n",
       "<table border=\"1\" class=\"dataframe\">\n",
       "  <thead>\n",
       "    <tr style=\"text-align: right;\">\n",
       "      <th></th>\n",
       "      <th>Open</th>\n",
       "      <th>High</th>\n",
       "      <th>Low</th>\n",
       "      <th>Close</th>\n",
       "      <th>Adj Close</th>\n",
       "      <th>Volume</th>\n",
       "    </tr>\n",
       "  </thead>\n",
       "  <tbody>\n",
       "    <tr>\n",
       "      <th>count</th>\n",
       "      <td>801.000000</td>\n",
       "      <td>801.000000</td>\n",
       "      <td>801.000000</td>\n",
       "      <td>801.000000</td>\n",
       "      <td>801.000000</td>\n",
       "      <td>8.010000e+02</td>\n",
       "    </tr>\n",
       "    <tr>\n",
       "      <th>mean</th>\n",
       "      <td>16.481186</td>\n",
       "      <td>17.062559</td>\n",
       "      <td>15.840662</td>\n",
       "      <td>16.466317</td>\n",
       "      <td>16.466317</td>\n",
       "      <td>1.964946e+07</td>\n",
       "    </tr>\n",
       "    <tr>\n",
       "      <th>std</th>\n",
       "      <td>15.973231</td>\n",
       "      <td>16.571099</td>\n",
       "      <td>15.281868</td>\n",
       "      <td>15.941973</td>\n",
       "      <td>15.941973</td>\n",
       "      <td>1.759508e+07</td>\n",
       "    </tr>\n",
       "    <tr>\n",
       "      <th>min</th>\n",
       "      <td>1.240000</td>\n",
       "      <td>1.330000</td>\n",
       "      <td>1.230000</td>\n",
       "      <td>1.240000</td>\n",
       "      <td>1.240000</td>\n",
       "      <td>9.606000e+05</td>\n",
       "    </tr>\n",
       "    <tr>\n",
       "      <th>25%</th>\n",
       "      <td>2.800000</td>\n",
       "      <td>2.850000</td>\n",
       "      <td>2.690000</td>\n",
       "      <td>2.770000</td>\n",
       "      <td>2.770000</td>\n",
       "      <td>6.706500e+06</td>\n",
       "    </tr>\n",
       "    <tr>\n",
       "      <th>50%</th>\n",
       "      <td>9.570000</td>\n",
       "      <td>9.690000</td>\n",
       "      <td>8.980000</td>\n",
       "      <td>9.340000</td>\n",
       "      <td>9.340000</td>\n",
       "      <td>1.581390e+07</td>\n",
       "    </tr>\n",
       "    <tr>\n",
       "      <th>75%</th>\n",
       "      <td>27.250000</td>\n",
       "      <td>28.150000</td>\n",
       "      <td>26.340000</td>\n",
       "      <td>27.150000</td>\n",
       "      <td>27.150000</td>\n",
       "      <td>2.676460e+07</td>\n",
       "    </tr>\n",
       "    <tr>\n",
       "      <th>max</th>\n",
       "      <td>70.300003</td>\n",
       "      <td>75.489998</td>\n",
       "      <td>67.260002</td>\n",
       "      <td>73.180000</td>\n",
       "      <td>73.180000</td>\n",
       "      <td>1.530927e+08</td>\n",
       "    </tr>\n",
       "  </tbody>\n",
       "</table>\n",
       "</div>"
      ],
      "text/plain": [
       "             Open        High         Low       Close   Adj Close  \\\n",
       "count  801.000000  801.000000  801.000000  801.000000  801.000000   \n",
       "mean    16.481186   17.062559   15.840662   16.466317   16.466317   \n",
       "std     15.973231   16.571099   15.281868   15.941973   15.941973   \n",
       "min      1.240000    1.330000    1.230000    1.240000    1.240000   \n",
       "25%      2.800000    2.850000    2.690000    2.770000    2.770000   \n",
       "50%      9.570000    9.690000    8.980000    9.340000    9.340000   \n",
       "75%     27.250000   28.150000   26.340000   27.150000   27.150000   \n",
       "max     70.300003   75.489998   67.260002   73.180000   73.180000   \n",
       "\n",
       "             Volume  \n",
       "count  8.010000e+02  \n",
       "mean   1.964946e+07  \n",
       "std    1.759508e+07  \n",
       "min    9.606000e+05  \n",
       "25%    6.706500e+06  \n",
       "50%    1.581390e+07  \n",
       "75%    2.676460e+07  \n",
       "max    1.530927e+08  "
      ]
     },
     "execution_count": 17,
     "metadata": {},
     "output_type": "execute_result"
    }
   ],
   "source": [
    "PLUG.describe()"
   ]
  },
  {
   "cell_type": "markdown",
   "id": "538d2cfd",
   "metadata": {},
   "source": [
    "#### 2. Plotear los datos en un mismo grafico "
   ]
  },
  {
   "cell_type": "code",
   "execution_count": 11,
   "id": "1ebc9355",
   "metadata": {
    "scrolled": true
   },
   "outputs": [
    {
     "data": {
      "application/vnd.jupyter.widget-view+json": {
       "model_id": "c9bff190bb95451b905a29df189a6c69",
       "version_major": 2,
       "version_minor": 0
      },
      "image/png": "[encoded data removed]",
      "text/html": [
       "\n",
       "            <div style=\"display: inline-block;\">\n",
       "                <div class=\"jupyter-widgets widget-label\" style=\"text-align: center;\">\n",
       "                    Figure\n",
       "                </div>\n",
       "                <img src='data:image/png;base64,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' width=1080.0/>\n",
       "            </div>\n",
       "        "
      ],
      "text/plain": [
       "Canvas(toolbar=Toolbar(toolitems=[('Home', 'Reset original view', 'home', 'home'), ('Back', 'Back to previous …"
      ]
     },
     "metadata": {},
     "output_type": "display_data"
    }
   ],
   "source": [
    "MCPHY['Close'].plot(label = 'MCPHY.PA', figsize = (15,7))\n",
    "NEL['Close'].plot(label = \"NEL\")\n",
    "plt.title('Stock Prices of MCPHY.PA & NEL');"
   ]
  },
  {
   "cell_type": "code",
   "execution_count": 12,
   "id": "d54c09df",
   "metadata": {},
   "outputs": [
    {
     "data": {
      "application/vnd.jupyter.widget-view+json": {
       "model_id": "c9bff190bb95451b905a29df189a6c69",
       "version_major": 2,
       "version_minor": 0
      },
      "image/png": "[encoded data removed]",
      "text/html": [
       "\n",
       "            <div style=\"display: inline-block;\">\n",
       "                <div class=\"jupyter-widgets widget-label\" style=\"text-align: center;\">\n",
       "                    Figure\n",
       "                </div>\n",
       "                <img src='data:image/png;base64,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' width=1080.0/>\n",
       "            </div>\n",
       "        "
      ],
      "text/plain": [
       "Canvas(toolbar=Toolbar(toolitems=[('Home', 'Reset original view', 'home', 'home'), ('Back', 'Back to previous …"
      ]
     },
     "metadata": {},
     "output_type": "display_data"
    }
   ],
   "source": [
    "ITM['Close'].plot(label = 'ITM', figsize = (15,7))\n",
    "PLUG['Close'].plot(label = 'PLUG')\n",
    "plt.title('Stock Prices of ITM & PLUG');"
   ]
  },
  {
   "cell_type": "markdown",
   "id": "538f327e",
   "metadata": {},
   "source": [
    "1. plotear bien las 3 empresas como en el grafico de Google finance.\n",
    "2. Analizar los puntos en los que se relacionana y ver a que estimiluos responden tanto subida como bajada \n",
    "3. Incluir, precio del Gas-Petrol y ver si hay o no hay relacion."
   ]
  },
  {
   "cell_type": "markdown",
   "id": "516c442d",
   "metadata": {},
   "source": [
    "#### 3. Hacer por fechas Varios Heatplots - matrices de coorrelacion. "
   ]
  },
  {
   "cell_type": "markdown",
   "id": "91649e3b",
   "metadata": {},
   "source": [
    "#### 4. Comentarios y ver si hay relacion con respecto algun evento significativo  "
   ]
  },
  {
   "cell_type": "markdown",
   "id": "8442881c",
   "metadata": {},
   "source": [
    "#### 5. (Si hay tiempo!!!)Correlacionar con precio del Petro y Gas - si hay tiempo!! "
   ]
  },
  {
   "cell_type": "code",
   "execution_count": 10,
   "id": "c67b4e68",
   "metadata": {},
   "outputs": [],
   "source": [
    "import seaborn"
   ]
  },
  {
   "cell_type": "code",
   "execution_count": null,
   "id": "19b415e5",
   "metadata": {},
   "outputs": [],
   "source": []
  }
 ],
 "metadata": {
  "kernelspec": {
   "display_name": "Python3 (Ironhack_FP)",
   "language": "python",
   "name": "condaenv"
  },
  "language_info": {
   "codemirror_mode": {
    "name": "ipython",
    "version": 3
   },
   "file_extension": ".py",
   "mimetype": "text/x-python",
   "name": "python",
   "nbconvert_exporter": "python",
   "pygments_lexer": "ipython3",
   "version": "3.9.7"
  }
 },
 "nbformat": 4,
 "nbformat_minor": 5
}
